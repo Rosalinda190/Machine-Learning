{
  "cells": [
    {
      "cell_type": "markdown",
      "metadata": {
        "id": "9MnGo-7ijN-G"
      },
      "source": [
        "# **Keras Workshop 1**\n",
        "\n",
        "Machine Learning\n",
        "\n",
        "**Name: Rosalinda Muñoz Gámez**\n",
        "\n",
        "UASLP code: 303997\n",
        "\n",
        "Gen 2021, Fac. Code: 202112300357\n",
        "\n",
        "October 20th, 2024"
      ]
    },
    {
      "cell_type": "markdown",
      "metadata": {
        "id": "uB4_T1MLlIQK"
      },
      "source": [
        "El objetivo de este ejercicio es implementar una red neuronal multicapa, únicamente para clasificar los dígitos 0 y 1 de la base de datos MNIST.\n",
        "\n",
        "__Objetivos:__\n",
        "* Implementar una red neuronal en Keras, para un problema de clasificación binaria.\n",
        "* Aprender el uso de la función de pérdida 'binary_crossentropy'.\n",
        "* Experimentar con distintos métodos de optimización.\n",
        "* Experimentar con distintas funciones de activación."
      ]
    },
    {
      "cell_type": "code",
      "execution_count": 114,
      "metadata": {
        "id": "-W2YFcPcro8E"
      },
      "outputs": [],
      "source": [
        "import numpy as np\n",
        "import matplotlib.pyplot as plt\n",
        "from time import time\n",
        "\n",
        "from keras import models\n",
        "from keras import layers\n",
        "from keras import optimizers\n",
        "from keras.utils import to_categorical\n",
        "\n",
        "from pandas import DataFrame\n",
        "import tensorflow as tf\n",
        "from sklearn.preprocessing import StandardScaler\n",
        "from sklearn.model_selection import train_test_split\n",
        "import seaborn as sns\n"
      ]
    },
    {
      "cell_type": "code",
      "execution_count": null,
      "metadata": {
        "colab": {
          "base_uri": "https://localhost:8080/"
        },
        "id": "_QDQW6XtrwMw",
        "outputId": "8a149f22-ffde-498e-db35-3d8dfcbeafc3"
      },
      "outputs": [
        {
          "name": "stdout",
          "output_type": "stream",
          "text": [
            "Downloading data from https://storage.googleapis.com/tensorflow/tf-keras-datasets/mnist.npz\n",
            "\u001b[1m11490434/11490434\u001b[0m \u001b[32m━━━━━━━━━━━━━━━━━━━━\u001b[0m\u001b[37m\u001b[0m \u001b[1m0s\u001b[0m 0us/step\n"
          ]
        }
      ],
      "source": [
        "# cargar la interfaz a la base de datos que viene con Keras\n",
        "from keras.datasets import mnist\n",
        "\n",
        "# lectura de los datos\n",
        "(train_images, train_labels), (test_images, test_labels) = mnist.load_data()\n",
        "\n",
        "# colectar los dígitos 0 y 1\n",
        "tr0 = np.where(train_labels==0)[0]\n",
        "tr1 = np.where(train_labels==1)[0]\n",
        "ts0 = np.where(test_labels==0)[0]\n",
        "ts1 = np.where(test_labels==1)[0]\n",
        "tr_idx = np.hstack([tr0, tr1])\n",
        "ts_idx = np.hstack([ts0, ts1])\n",
        "\n",
        "# nuevo sub-conjunto de datos\n",
        "train_images = train_images[tr_idx]\n",
        "train_labels = train_labels[tr_idx]\n",
        "test_images = test_images[ts_idx]\n",
        "test_labels = test_labels[ts_idx]"
      ]
    },
    {
      "cell_type": "code",
      "execution_count": null,
      "metadata": {
        "colab": {
          "base_uri": "https://localhost:8080/"
        },
        "id": "o7I9pTA8r1Q0",
        "outputId": "73f3fc6f-40c6-44b4-8555-84b6b27fe0ac"
      },
      "outputs": [
        {
          "name": "stdout",
          "output_type": "stream",
          "text": [
            "train images shape: (12665, 28, 28)\n",
            "train labels shape: (12665,)\n",
            "test images shape: (2115, 28, 28)\n",
            "test labels shape: (2115,)\n"
          ]
        }
      ],
      "source": [
        "print('train images shape:', train_images.shape)\n",
        "print('train labels shape:', train_labels.shape)\n",
        "print('test images shape:', test_images.shape)\n",
        "print('test labels shape:', test_labels.shape)"
      ]
    },
    {
      "cell_type": "markdown",
      "metadata": {
        "id": "uN6NIdgUr5bQ"
      },
      "source": [
        "Ahora, el conjunto sólo tiene 12665 datos de entrenamiento, y 2115 datos de prueba.\n"
      ]
    },
    {
      "cell_type": "code",
      "execution_count": null,
      "metadata": {
        "id": "SB-d08iZr5-3"
      },
      "outputs": [],
      "source": [
        "# pre-procesamiento de los datos\n",
        "train_images = train_images.reshape((-1, 28*28))\n",
        "train_images = train_images.astype('float32') / 255\n",
        "\n",
        "test_images = test_images.reshape((-1, 28*28))\n",
        "test_images = test_images.astype('float32') / 255\n",
        "\n",
        "data_shape = train_images.shape[1:]\n",
        "\n",
        "# one-hot encoding\n",
        "train_labels = to_categorical(train_labels)\n",
        "test_labels  = to_categorical(test_labels)"
      ]
    },
    {
      "cell_type": "markdown",
      "metadata": {
        "id": "4ew1foKCr-rZ"
      },
      "source": [
        "## Diseño de la red"
      ]
    },
    {
      "cell_type": "markdown",
      "metadata": {
        "id": "rAt8_rs1sDJm"
      },
      "source": [
        "__Ejercicio:__ Diseñe una red neuronal con varias capas ocultas, más una capa de salida (como en la figura). Las capas deben ser densas.\n",
        "\n",
        "¿Cuántas neuronas debe tener la capa de salida?\n",
        "\n",
        "Experimente con diferente número de capas (no demasiadas, entre 1 y 5).\n",
        "\n",
        "Experimente con diferente número de neuronas en las capas ocultas (puede usar potencias de 2 si lo prefiere).\n",
        "\n",
        "Experimente con diferentes funciones de activación en las capas ocultas (e.g. 'relu', 'tanh', 'sigmoid', None).\n",
        "\n",
        "Por ser clasificación binaria, en la capa de salida puede usar la activación 'sigmoid'. Si lo desea, puede experimentar con otras funciones de activación."
      ]
    },
    {
      "cell_type": "code",
      "execution_count": 105,
      "metadata": {
        "id": "aY9uhdPbtwhC"
      },
      "outputs": [],
      "source": [
        "### START CODE HERE ###\n",
        "network = models.Sequential()\n",
        "\n",
        "network.add(layers.Dense(units=256, activation='relu', input_shape=data_shape, name='dense0'))\n",
        "\n",
        "network.add(layers.Dense(units=128, activation='relu', name='dense1'))\n",
        "\n",
        "network.add(layers.Dense(units=64, activation='relu', name='dense2'))\n",
        "\n",
        "network.add(layers.Dense(units=32, activation='relu', name='dense3'))\n",
        "\n",
        "network.add(layers.Dense(units=2, activation='sigmoid', name='out'))\n",
        "### END CODE HERE ###\n"
      ]
    },
    {
      "cell_type": "code",
      "execution_count": 106,
      "metadata": {
        "colab": {
          "base_uri": "https://localhost:8080/",
          "height": 289
        },
        "id": "eePv3eWDuBve",
        "outputId": "677a2eab-5a89-4b85-bc96-e290f0f94bb3"
      },
      "outputs": [
        {
          "output_type": "display_data",
          "data": {
            "text/plain": [
              "\u001b[1mModel: \"sequential_6\"\u001b[0m\n"
            ],
            "text/html": [
              "<pre style=\"white-space:pre;overflow-x:auto;line-height:normal;font-family:Menlo,'DejaVu Sans Mono',consolas,'Courier New',monospace\"><span style=\"font-weight: bold\">Model: \"sequential_6\"</span>\n",
              "</pre>\n"
            ]
          },
          "metadata": {}
        },
        {
          "output_type": "display_data",
          "data": {
            "text/plain": [
              "┏━━━━━━━━━━━━━━━━━━━━━━━━━━━━━━━━━━━━━━┳━━━━━━━━━━━━━━━━━━━━━━━━━━━━━┳━━━━━━━━━━━━━━━━━┓\n",
              "┃\u001b[1m \u001b[0m\u001b[1mLayer (type)                        \u001b[0m\u001b[1m \u001b[0m┃\u001b[1m \u001b[0m\u001b[1mOutput Shape               \u001b[0m\u001b[1m \u001b[0m┃\u001b[1m \u001b[0m\u001b[1m        Param #\u001b[0m\u001b[1m \u001b[0m┃\n",
              "┡━━━━━━━━━━━━━━━━━━━━━━━━━━━━━━━━━━━━━━╇━━━━━━━━━━━━━━━━━━━━━━━━━━━━━╇━━━━━━━━━━━━━━━━━┩\n",
              "│ dense0 (\u001b[38;5;33mDense\u001b[0m)                       │ (\u001b[38;5;45mNone\u001b[0m, \u001b[38;5;34m256\u001b[0m)                 │         \u001b[38;5;34m200,960\u001b[0m │\n",
              "├──────────────────────────────────────┼─────────────────────────────┼─────────────────┤\n",
              "│ dense1 (\u001b[38;5;33mDense\u001b[0m)                       │ (\u001b[38;5;45mNone\u001b[0m, \u001b[38;5;34m128\u001b[0m)                 │          \u001b[38;5;34m32,896\u001b[0m │\n",
              "├──────────────────────────────────────┼─────────────────────────────┼─────────────────┤\n",
              "│ dense2 (\u001b[38;5;33mDense\u001b[0m)                       │ (\u001b[38;5;45mNone\u001b[0m, \u001b[38;5;34m64\u001b[0m)                  │           \u001b[38;5;34m8,256\u001b[0m │\n",
              "├──────────────────────────────────────┼─────────────────────────────┼─────────────────┤\n",
              "│ dense3 (\u001b[38;5;33mDense\u001b[0m)                       │ (\u001b[38;5;45mNone\u001b[0m, \u001b[38;5;34m32\u001b[0m)                  │           \u001b[38;5;34m2,080\u001b[0m │\n",
              "├──────────────────────────────────────┼─────────────────────────────┼─────────────────┤\n",
              "│ out (\u001b[38;5;33mDense\u001b[0m)                          │ (\u001b[38;5;45mNone\u001b[0m, \u001b[38;5;34m2\u001b[0m)                   │              \u001b[38;5;34m66\u001b[0m │\n",
              "└──────────────────────────────────────┴─────────────────────────────┴─────────────────┘\n"
            ],
            "text/html": [
              "<pre style=\"white-space:pre;overflow-x:auto;line-height:normal;font-family:Menlo,'DejaVu Sans Mono',consolas,'Courier New',monospace\">┏━━━━━━━━━━━━━━━━━━━━━━━━━━━━━━━━━━━━━━┳━━━━━━━━━━━━━━━━━━━━━━━━━━━━━┳━━━━━━━━━━━━━━━━━┓\n",
              "┃<span style=\"font-weight: bold\"> Layer (type)                         </span>┃<span style=\"font-weight: bold\"> Output Shape                </span>┃<span style=\"font-weight: bold\">         Param # </span>┃\n",
              "┡━━━━━━━━━━━━━━━━━━━━━━━━━━━━━━━━━━━━━━╇━━━━━━━━━━━━━━━━━━━━━━━━━━━━━╇━━━━━━━━━━━━━━━━━┩\n",
              "│ dense0 (<span style=\"color: #0087ff; text-decoration-color: #0087ff\">Dense</span>)                       │ (<span style=\"color: #00d7ff; text-decoration-color: #00d7ff\">None</span>, <span style=\"color: #00af00; text-decoration-color: #00af00\">256</span>)                 │         <span style=\"color: #00af00; text-decoration-color: #00af00\">200,960</span> │\n",
              "├──────────────────────────────────────┼─────────────────────────────┼─────────────────┤\n",
              "│ dense1 (<span style=\"color: #0087ff; text-decoration-color: #0087ff\">Dense</span>)                       │ (<span style=\"color: #00d7ff; text-decoration-color: #00d7ff\">None</span>, <span style=\"color: #00af00; text-decoration-color: #00af00\">128</span>)                 │          <span style=\"color: #00af00; text-decoration-color: #00af00\">32,896</span> │\n",
              "├──────────────────────────────────────┼─────────────────────────────┼─────────────────┤\n",
              "│ dense2 (<span style=\"color: #0087ff; text-decoration-color: #0087ff\">Dense</span>)                       │ (<span style=\"color: #00d7ff; text-decoration-color: #00d7ff\">None</span>, <span style=\"color: #00af00; text-decoration-color: #00af00\">64</span>)                  │           <span style=\"color: #00af00; text-decoration-color: #00af00\">8,256</span> │\n",
              "├──────────────────────────────────────┼─────────────────────────────┼─────────────────┤\n",
              "│ dense3 (<span style=\"color: #0087ff; text-decoration-color: #0087ff\">Dense</span>)                       │ (<span style=\"color: #00d7ff; text-decoration-color: #00d7ff\">None</span>, <span style=\"color: #00af00; text-decoration-color: #00af00\">32</span>)                  │           <span style=\"color: #00af00; text-decoration-color: #00af00\">2,080</span> │\n",
              "├──────────────────────────────────────┼─────────────────────────────┼─────────────────┤\n",
              "│ out (<span style=\"color: #0087ff; text-decoration-color: #0087ff\">Dense</span>)                          │ (<span style=\"color: #00d7ff; text-decoration-color: #00d7ff\">None</span>, <span style=\"color: #00af00; text-decoration-color: #00af00\">2</span>)                   │              <span style=\"color: #00af00; text-decoration-color: #00af00\">66</span> │\n",
              "└──────────────────────────────────────┴─────────────────────────────┴─────────────────┘\n",
              "</pre>\n"
            ]
          },
          "metadata": {}
        },
        {
          "output_type": "display_data",
          "data": {
            "text/plain": [
              "\u001b[1m Total params: \u001b[0m\u001b[38;5;34m244,258\u001b[0m (954.13 KB)\n"
            ],
            "text/html": [
              "<pre style=\"white-space:pre;overflow-x:auto;line-height:normal;font-family:Menlo,'DejaVu Sans Mono',consolas,'Courier New',monospace\"><span style=\"font-weight: bold\"> Total params: </span><span style=\"color: #00af00; text-decoration-color: #00af00\">244,258</span> (954.13 KB)\n",
              "</pre>\n"
            ]
          },
          "metadata": {}
        },
        {
          "output_type": "display_data",
          "data": {
            "text/plain": [
              "\u001b[1m Trainable params: \u001b[0m\u001b[38;5;34m244,258\u001b[0m (954.13 KB)\n"
            ],
            "text/html": [
              "<pre style=\"white-space:pre;overflow-x:auto;line-height:normal;font-family:Menlo,'DejaVu Sans Mono',consolas,'Courier New',monospace\"><span style=\"font-weight: bold\"> Trainable params: </span><span style=\"color: #00af00; text-decoration-color: #00af00\">244,258</span> (954.13 KB)\n",
              "</pre>\n"
            ]
          },
          "metadata": {}
        },
        {
          "output_type": "display_data",
          "data": {
            "text/plain": [
              "\u001b[1m Non-trainable params: \u001b[0m\u001b[38;5;34m0\u001b[0m (0.00 B)\n"
            ],
            "text/html": [
              "<pre style=\"white-space:pre;overflow-x:auto;line-height:normal;font-family:Menlo,'DejaVu Sans Mono',consolas,'Courier New',monospace\"><span style=\"font-weight: bold\"> Non-trainable params: </span><span style=\"color: #00af00; text-decoration-color: #00af00\">0</span> (0.00 B)\n",
              "</pre>\n"
            ]
          },
          "metadata": {}
        }
      ],
      "source": [
        "network.summary()"
      ]
    },
    {
      "cell_type": "markdown",
      "metadata": {
        "id": "mXhWsqpMuZO4"
      },
      "source": [
        "__Ejercicio:__ Compile y entrene la red neuronal. Como es un problema de clasificación binaria (0 ó 1), utilice como función de pérdida 'binary_crossentropy'\n",
        "\n",
        "Utilice el optimizador 'RMSprop' con un learning rate apropiado. Consulte la documentación de Keras y utilice otros optimizadores (e.g. 'sgd', 'adam', 'adagrad', 'adadelta', 'adamax').\n",
        "\n",
        "Experimente cambiando diferentes valores para learning rate (e.g. 0.1, 0.05, 0.01, ...) Estos valores pueden cambiar, dependiendo del optimizador que se use.\n",
        "\n",
        "Experimente cambiando tamaños de batch entre 1 y 256 (se sugiere usar potencias de 2).\n",
        "\n",
        "Finalmente, compare sus modelos y determine cuál tiene el menor error de clasificación (mayor accuracy)."
      ]
    },
    {
      "cell_type": "code",
      "execution_count": 107,
      "metadata": {
        "colab": {
          "base_uri": "https://localhost:8080/"
        },
        "id": "F7XfpeYdvpQ9",
        "outputId": "9f1c2f00-9c38-43f6-b0a9-a930d1fa18e8"
      },
      "outputs": [
        {
          "output_type": "stream",
          "name": "stdout",
          "text": [
            "Epoch 1/10\n",
            "\u001b[1m42/42\u001b[0m \u001b[32m━━━━━━━━━━━━━━━━━━━━\u001b[0m\u001b[37m\u001b[0m \u001b[1m2s\u001b[0m 14ms/step - acc: 0.9197 - loss: 0.1811 - val_acc: 0.9995 - val_loss: 0.0037\n",
            "Epoch 2/10\n",
            "\u001b[1m42/42\u001b[0m \u001b[32m━━━━━━━━━━━━━━━━━━━━\u001b[0m\u001b[37m\u001b[0m \u001b[1m0s\u001b[0m 10ms/step - acc: 0.9972 - loss: 0.0104 - val_acc: 0.9986 - val_loss: 0.0044\n",
            "Epoch 3/10\n",
            "\u001b[1m42/42\u001b[0m \u001b[32m━━━━━━━━━━━━━━━━━━━━\u001b[0m\u001b[37m\u001b[0m \u001b[1m1s\u001b[0m 10ms/step - acc: 0.9986 - loss: 0.0040 - val_acc: 0.9995 - val_loss: 0.0014\n",
            "Epoch 4/10\n",
            "\u001b[1m42/42\u001b[0m \u001b[32m━━━━━━━━━━━━━━━━━━━━\u001b[0m\u001b[37m\u001b[0m \u001b[1m1s\u001b[0m 10ms/step - acc: 0.9991 - loss: 0.0037 - val_acc: 0.9991 - val_loss: 0.0031\n",
            "Epoch 5/10\n",
            "\u001b[1m42/42\u001b[0m \u001b[32m━━━━━━━━━━━━━━━━━━━━\u001b[0m\u001b[37m\u001b[0m \u001b[1m1s\u001b[0m 10ms/step - acc: 0.9996 - loss: 0.0023 - val_acc: 0.9995 - val_loss: 0.0016\n",
            "Epoch 6/10\n",
            "\u001b[1m42/42\u001b[0m \u001b[32m━━━━━━━━━━━━━━━━━━━━\u001b[0m\u001b[37m\u001b[0m \u001b[1m1s\u001b[0m 10ms/step - acc: 0.9997 - loss: 0.0016 - val_acc: 0.9986 - val_loss: 0.0035\n",
            "Epoch 7/10\n",
            "\u001b[1m42/42\u001b[0m \u001b[32m━━━━━━━━━━━━━━━━━━━━\u001b[0m\u001b[37m\u001b[0m \u001b[1m1s\u001b[0m 10ms/step - acc: 0.9999 - loss: 4.9519e-04 - val_acc: 0.9991 - val_loss: 0.0022\n",
            "Epoch 8/10\n",
            "\u001b[1m42/42\u001b[0m \u001b[32m━━━━━━━━━━━━━━━━━━━━\u001b[0m\u001b[37m\u001b[0m \u001b[1m1s\u001b[0m 10ms/step - acc: 0.9999 - loss: 5.5012e-04 - val_acc: 0.9991 - val_loss: 0.0022\n",
            "Epoch 9/10\n",
            "\u001b[1m42/42\u001b[0m \u001b[32m━━━━━━━━━━━━━━━━━━━━\u001b[0m\u001b[37m\u001b[0m \u001b[1m1s\u001b[0m 11ms/step - acc: 0.9999 - loss: 2.7285e-04 - val_acc: 0.9991 - val_loss: 0.0029\n",
            "Epoch 10/10\n",
            "\u001b[1m42/42\u001b[0m \u001b[32m━━━━━━━━━━━━━━━━━━━━\u001b[0m\u001b[37m\u001b[0m \u001b[1m0s\u001b[0m 10ms/step - acc: 1.0000 - loss: 1.1868e-04 - val_acc: 0.9991 - val_loss: 0.0018\n",
            "total training time: 7.522000551223755 seconds\n"
          ]
        }
      ],
      "source": [
        "### START CODE HERE ### (≈ 2 lines of code)\n",
        "opt = optimizers.RMSprop(learning_rate = 0.001)\n",
        "network.compile(optimizer = opt, loss = 'binary_crossentropy', metrics=['acc'])\n",
        "### END CODE HERE ###\n",
        "\n",
        "\n",
        "### START CODE HERE ### (≈ 3 lines of code)\n",
        "tic = time()\n",
        "history = network.fit(train_images, train_labels, epochs = 10, batch_size = 256, validation_split = 0.16666)\n",
        "print('total training time:', time()-tic, 'seconds')\n",
        "### END CODE HERE ###"
      ]
    },
    {
      "cell_type": "markdown",
      "metadata": {
        "id": "Wpcq-9aAu5Yj"
      },
      "source": [
        "### Ver el historial de desempeño de la red\n"
      ]
    },
    {
      "cell_type": "code",
      "source": [
        "history_dict = history.history\n",
        "history_dict.keys()"
      ],
      "metadata": {
        "colab": {
          "base_uri": "https://localhost:8080/"
        },
        "id": "RL2o2IXQ0tJD",
        "outputId": "0fe2bf6a-fa03-4637-8f91-767713808718"
      },
      "execution_count": 108,
      "outputs": [
        {
          "output_type": "execute_result",
          "data": {
            "text/plain": [
              "dict_keys(['acc', 'loss', 'val_acc', 'val_loss'])"
            ]
          },
          "metadata": {},
          "execution_count": 108
        }
      ]
    },
    {
      "cell_type": "code",
      "source": [
        "acc = history.history['acc']\n",
        "val_acc = history.history['val_acc']\n",
        "loss = history.history['loss']\n",
        "val_loss = history.history['val_loss']\n",
        "\n",
        "epochs = range(1, len(acc)+1)\n",
        "\n",
        "# figure\n",
        "plt.figure(figsize=(10,5))\n",
        "plt.subplot(1,2,1)\n",
        "plt.plot(epochs, loss, 'b', label='Training loss')\n",
        "plt.plot(epochs, val_loss, 'g', label='Validation loss')\n",
        "plt.title('Training and validation loss')\n",
        "plt.xlabel('Epochs')\n",
        "plt.ylabel('Loss')\n",
        "plt.legend()\n",
        "plt.subplot(1,2,2)\n",
        "plt.plot(epochs, acc, 'r', label='Training accuracy')\n",
        "plt.plot(epochs, val_acc, 'g', label='Validation accuracy')\n",
        "plt.title('Training and validation accuracy')\n",
        "plt.xlabel('Epochs')\n",
        "plt.ylabel('Accuracy')\n",
        "plt.legend()\n",
        "plt.show()"
      ],
      "metadata": {
        "colab": {
          "base_uri": "https://localhost:8080/",
          "height": 487
        },
        "id": "-Z_5Eoah0t45",
        "outputId": "14bedce2-47af-4c40-bdc3-f3a166e46d5b"
      },
      "execution_count": 109,
      "outputs": [
        {
          "output_type": "display_data",
          "data": {
            "text/plain": [
              "<Figure size 1000x500 with 2 Axes>"
            ],
            "image/png": "[encoded data removed]"
          },
          "metadata": {}
        }
      ]
    },
    {
      "cell_type": "markdown",
      "metadata": {
        "id": "8F7neLanwe3-"
      },
      "source": [
        "### Resultados"
      ]
    },
    {
      "cell_type": "code",
      "source": [
        "results = network.evaluate(test_images, test_labels)\n",
        "print('results loss:', results[0])\n",
        "print('results accuracy:', results[1])"
      ],
      "metadata": {
        "colab": {
          "base_uri": "https://localhost:8080/"
        },
        "id": "lPE0mLNb0ySL",
        "outputId": "ae0d1533-0bf6-4277-dd22-8e628a3e2e56"
      },
      "execution_count": 110,
      "outputs": [
        {
          "output_type": "stream",
          "name": "stdout",
          "text": [
            "\u001b[1m67/67\u001b[0m \u001b[32m━━━━━━━━━━━━━━━━━━━━\u001b[0m\u001b[37m\u001b[0m \u001b[1m0s\u001b[0m 2ms/step - acc: 0.9996 - loss: 0.0027\n",
            "results loss: 0.003346203127875924\n",
            "results accuracy: 0.9995272159576416\n"
          ]
        }
      ]
    },
    {
      "cell_type": "code",
      "source": [
        "pred = network.predict(test_images)\n",
        "predictions = np.argmax(pred, 1)\n",
        "\n",
        "test_labs = np.argmax(test_labels, 1)\n",
        "conf_matrix = tf.math.confusion_matrix(labels=test_labs, predictions=predictions).numpy()\n",
        "conf_matrix = np.around(conf_matrix.astype('float') / conf_matrix.sum(axis=1)[:, np.newaxis], decimals=2)\n",
        "\n",
        "cf = DataFrame(conf_matrix)\n",
        "\n",
        "# plot confusion matrix\n",
        "cf = DataFrame(conf_matrix)\n",
        "figure = plt.figure(figsize=(10, 10))\n",
        "sns.heatmap(cf, annot=True,cmap=plt.cm.Blues,cbar=False)\n",
        "plt.tight_layout()\n",
        "plt.ylabel('True label')\n",
        "plt.xlabel('Predicted label')\n",
        "plt.show()"
      ],
      "metadata": {
        "colab": {
          "base_uri": "https://localhost:8080/",
          "height": 1000
        },
        "id": "mypckFXh1s7_",
        "outputId": "c62682c9-91d2-4a5e-ab13-6f24e865f0a9"
      },
      "execution_count": 115,
      "outputs": [
        {
          "output_type": "stream",
          "name": "stdout",
          "text": [
            "\u001b[1m67/67\u001b[0m \u001b[32m━━━━━━━━━━━━━━━━━━━━\u001b[0m\u001b[37m\u001b[0m \u001b[1m0s\u001b[0m 4ms/step\n"
          ]
        },
        {
          "output_type": "display_data",
          "data": {
            "text/plain": [
              "<Figure size 1000x1000 with 1 Axes>"
            ],
            "image/png": "[encoded data removed]"
          },
          "metadata": {}
        }
      ]
    },
    {
      "cell_type": "markdown",
      "source": [
        "# **Conclusion**\n",
        "\n",
        "The exercise of compiling and training a neural network for a binary classification problem using various optimizers, learning rates, and batch sizes highlighted several key aspects of machine learning model training. The choice of optimizer significantly impacts the model's convergence and performance; in this exercise, optimizers such as RMSprop, Adam, SGD, and Adagrad were compared, demonstrating that different optimizers have advantages depending on the problem's nature, model architecture, and data quality. Experimenting with learning rates revealed that an appropriate value can accelerate convergence, while excessively high values may lead to unstable training. Additionally, adjusting the batch size influenced both training time and learning stability, where smaller batch sizes often led to noisier training but potentially better minima in the loss function, while larger sizes provided more stable gradient estimates."
      ],
      "metadata": {
        "id": "4fFI8fTs2LDc"
      }
    }
  ],
  "metadata": {
    "colab": {
      "provenance": []
    },
    "kernelspec": {
      "display_name": "Python 3",
      "name": "python3"
    },
    "language_info": {
      "name": "python"
    }
  },
  "nbformat": 4,
  "nbformat_minor": 0
}